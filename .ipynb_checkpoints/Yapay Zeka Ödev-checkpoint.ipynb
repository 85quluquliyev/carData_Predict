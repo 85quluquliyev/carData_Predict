{
 "cells": [
  {
   "cell_type": "code",
   "execution_count": 44,
   "id": "0b7028d1",
   "metadata": {},
   "outputs": [],
   "source": [
    "import numpy as np\n",
    "import matplotlib.pyplot as plt\n",
    "import pandas as pd\n",
    "from sklearn.linear_model import LinearRegression\n",
    "from sklearn.model_selection import train_test_split\n",
    "from sklearn.preprocessing import LabelEncoder\n",
    "from sklearn.preprocessing import StandardScaler\n",
    "sc = StandardScaler()\n",
    "lb = LabelEncoder()"
   ]
  },
  {
   "cell_type": "code",
   "execution_count": 45,
   "id": "eff5576a",
   "metadata": {},
   "outputs": [],
   "source": [
    "data = pd.read_excel(\"asg 1 - train data.xlsx\")\n"
   ]
  },
  {
   "cell_type": "code",
   "execution_count": 46,
   "id": "6e9b8f93",
   "metadata": {},
   "outputs": [],
   "source": [
    "# Dealer => 1, Owner => 0\n",
    "data[\"Seller\"] = [1 if i == \"Dealer\" else 0 for i in data[\"Seller\"]]\n",
    "# Manual => 0, Auto => 1\n",
    "data[\"Shift\"] = [1 if i == \"Auto\" else 0 for i in data[\"Shift\"]]\n",
    "# Disel => 0, Gasoline => 1, LPG => 2\n",
    "data[\"Type\"] = [0 if i == \"Diesel\" else i for i in [1 if i == \"Gasoline\" else i for i in [2 if i == \"LPG\" else i for i in data[\"Type\"]]]]\n",
    "lb.fit(data[\"Year\"])\n",
    "data[\"Year\"] = lb.transform(data[\"Year\"])"
   ]
  },
  {
   "cell_type": "code",
   "execution_count": 47,
   "id": "237c78cd",
   "metadata": {},
   "outputs": [],
   "source": [
    "#x = (x_data-np.min(x_data))/(np.max(x_data)-np.min(x_data))\n",
    "x_data = data.drop([\"Price\"], axis=1)\n",
    "y = data.Price.values\n",
    "x = sc.fit_transform(x_data)"
   ]
  },
  {
   "cell_type": "code",
   "execution_count": 48,
   "id": "152e98f2",
   "metadata": {},
   "outputs": [],
   "source": [
    "x_train, x_test, y_train, y_test = train_test_split(x, y, test_size=0.05, random_state=42)\n"
   ]
  },
  {
   "cell_type": "code",
   "execution_count": 49,
   "id": "79589498",
   "metadata": {},
   "outputs": [
    {
     "name": "stdout",
     "output_type": "stream",
     "text": [
      "Linear Regression: 0.8966435823187767\n"
     ]
    }
   ],
   "source": [
    "lreg = LinearRegression()\n",
    "lreg.fit(x_train, y_train)\n",
    "print(\"Linear Regression:\", lreg.score(x_test, y_test))\n"
   ]
  },
  {
   "cell_type": "code",
   "execution_count": 50,
   "id": "7b9d15e1",
   "metadata": {},
   "outputs": [
    {
     "name": "stdout",
     "output_type": "stream",
     "text": [
      "Ridge with 1.5 Alpha: 0.8966984137664722\n"
     ]
    }
   ],
   "source": [
    "from sklearn.linear_model import Ridge\n",
    "rdgreg = Ridge(alpha=1.5)\n",
    "rdgreg.fit(x_train, y_train)\n",
    "print(\"Ridge with 1.5 Alpha:\", rdgreg.score(x_test, y_test))"
   ]
  },
  {
   "cell_type": "code",
   "execution_count": 2,
   "id": "4b7e5450",
   "metadata": {},
   "outputs": [
    {
     "ename": "NameError",
     "evalue": "name 'x_train' is not defined",
     "output_type": "error",
     "traceback": [
      "\u001b[1;31m---------------------------------------------------------------------------\u001b[0m",
      "\u001b[1;31mNameError\u001b[0m                                 Traceback (most recent call last)",
      "\u001b[1;32m~\\AppData\\Local\\Temp/ipykernel_21672/212455177.py\u001b[0m in \u001b[0;36m<module>\u001b[1;34m\u001b[0m\n\u001b[0;32m      1\u001b[0m \u001b[1;32mfrom\u001b[0m \u001b[0msklearn\u001b[0m\u001b[1;33m.\u001b[0m\u001b[0mlinear_model\u001b[0m \u001b[1;32mimport\u001b[0m \u001b[0mRidge\u001b[0m\u001b[1;33m\u001b[0m\u001b[1;33m\u001b[0m\u001b[0m\n\u001b[0;32m      2\u001b[0m \u001b[0mrdgreg\u001b[0m \u001b[1;33m=\u001b[0m \u001b[0mRidge\u001b[0m\u001b[1;33m(\u001b[0m\u001b[0malpha\u001b[0m\u001b[1;33m=\u001b[0m\u001b[1;36m5\u001b[0m\u001b[1;33m)\u001b[0m\u001b[1;33m\u001b[0m\u001b[1;33m\u001b[0m\u001b[0m\n\u001b[1;32m----> 3\u001b[1;33m \u001b[0mrdgreg\u001b[0m\u001b[1;33m.\u001b[0m\u001b[0mfit\u001b[0m\u001b[1;33m(\u001b[0m\u001b[0mx_train\u001b[0m\u001b[1;33m,\u001b[0m \u001b[0my_train\u001b[0m\u001b[1;33m)\u001b[0m\u001b[1;33m\u001b[0m\u001b[1;33m\u001b[0m\u001b[0m\n\u001b[0m\u001b[0;32m      4\u001b[0m \u001b[0mprint\u001b[0m\u001b[1;33m(\u001b[0m\u001b[1;34m\"Ridge with 5 Alpha:\"\u001b[0m\u001b[1;33m,\u001b[0m \u001b[0mrdgreg\u001b[0m\u001b[1;33m.\u001b[0m\u001b[0mscore\u001b[0m\u001b[1;33m(\u001b[0m\u001b[0mx_test\u001b[0m\u001b[1;33m,\u001b[0m \u001b[0my_test\u001b[0m\u001b[1;33m)\u001b[0m\u001b[1;33m)\u001b[0m\u001b[1;33m\u001b[0m\u001b[1;33m\u001b[0m\u001b[0m\n",
      "\u001b[1;31mNameError\u001b[0m: name 'x_train' is not defined"
     ]
    }
   ],
   "source": [
    "from sklearn.linear_model import Ridge\n",
    "rdgreg = Ridge(alpha=5)\n",
    "rdgreg.fit(x_train, y_train)\n",
    "print(\"Ridge with 5 Alpha:\", rdgreg.score(x_test, y_test))"
   ]
  },
  {
   "cell_type": "code",
   "execution_count": 51,
   "id": "08f638c8",
   "metadata": {},
   "outputs": [
    {
     "name": "stdout",
     "output_type": "stream",
     "text": [
      "Lasso Score with 1.5 Alpha: 0.8966519387003015\n"
     ]
    }
   ],
   "source": [
    "from sklearn.linear_model import Lasso\n",
    "lssreg = Lasso(alpha=1.5)\n",
    "lssreg.fit(x_train, y_train)\n",
    "print(\"Lasso Score with 1.5 Alpha:\", lssreg.score(x_test, y_test))\n"
   ]
  },
  {
   "cell_type": "code",
   "execution_count": 52,
   "id": "32dc91bc",
   "metadata": {},
   "outputs": [],
   "source": [
    "# reading the TestDataMGG.csv file\n",
    "\n",
    "test_data = pd.read_csv(\"TestDataMGG.csv\", sep=\";\")\n",
    "test_data[\"Seller\"] = [1 if i == \"Dealer\" else 0 for i in test_data[\"Seller\"]]\n",
    "# Manual => 0, Auto => 1\n",
    "test_data[\"Shift\"] = [1 if i == \"Auto\" else 0 for i in test_data[\"Shift\"]]\n",
    "# Disel => 0, Gasoline => 1, LPG => 2\n",
    "test_data[\"Type\"] = [0 if i == \"Diesel\" else i for i in [1 if i == \"Gasoline\" else i for i in [2 if i == \"LPG\" else i for i in test_data[\"Type\"]]]]\n",
    "test_data[\"Year\"] = lb.transform(test_data[\"Year\"])"
   ]
  },
  {
   "cell_type": "code",
   "execution_count": 53,
   "id": "dbc0d243",
   "metadata": {},
   "outputs": [
    {
     "name": "stdout",
     "output_type": "stream",
     "text": [
      "[44798.18333964 28771.88925028 29522.2723821  20546.48170711\n",
      " 27566.94280144 48516.47455035 40163.00049595 30305.61637039\n",
      " 42049.69554526 18972.00452062 50399.42682396 19230.00483756\n",
      " 47934.36067566 36865.98825053 29036.85268039 37632.24912191\n",
      " 39715.72063846 30456.87926516 29265.49192613 54062.45476634\n",
      " 51980.4334191  22412.42146512 20332.51305748 50898.05636377\n",
      " 18940.10275955  8221.36881043 48260.20613201 29741.64380623\n",
      " 15936.28596911 20804.4298867  23615.41273902 47923.80108268\n",
      " 24657.50366092 50563.21128946 41926.58680721 26480.53623097\n",
      " 55221.17523413 36482.00005735 43955.99960734 21203.97171902\n",
      " 25530.02581476 28568.22197585 38544.60237288 16173.64660158\n",
      " 47805.19491279 50151.90814036 17823.953286   43482.2678527\n",
      " 24991.46350022 27354.97999425 49096.86718292 52755.15874518\n",
      " 26693.07761214 43617.56715749 25695.98572426 30987.47911317\n",
      " 31096.78061377 58404.57830317 27166.38453924 45249.58204585\n",
      " 41187.93437886 27821.08309773 32292.26827192 30489.4955138\n",
      " 26139.53769985 54992.60453078 25901.16695436 54212.91585641\n",
      " 37160.14801438 44578.62500054 22548.47034252 17157.60239119\n",
      " 21161.82677118 41434.15185497 41524.07107764 32492.01297842\n",
      " 33745.34878394 29479.46057576 43286.74827864 33189.62916075\n",
      " 36456.76196545 28158.41496431 24218.68086757 27771.76320839\n",
      " 26399.17070513 25817.55931654 42057.54227588 25889.33390734\n",
      " 33084.88375016 24909.39100818 46863.22697463 50145.00209865\n",
      " 16445.67917191 38808.77279865]\n"
     ]
    }
   ],
   "source": [
    "#test = (test_data-np.min(test_data))/(np.max(test_data)-np.min(test_data))\n",
    "test = sc.transform(test_data)\n",
    "print(rdgreg.predict(test))"
   ]
  },
  {
   "cell_type": "code",
   "execution_count": null,
   "id": "529f9445",
   "metadata": {},
   "outputs": [],
   "source": []
  }
 ],
 "metadata": {
  "kernelspec": {
   "display_name": "Python 3 (ipykernel)",
   "language": "python",
   "name": "python3"
  },
  "language_info": {
   "codemirror_mode": {
    "name": "ipython",
    "version": 3
   },
   "file_extension": ".py",
   "mimetype": "text/x-python",
   "name": "python",
   "nbconvert_exporter": "python",
   "pygments_lexer": "ipython3",
   "version": "3.9.7"
  }
 },
 "nbformat": 4,
 "nbformat_minor": 5
}
