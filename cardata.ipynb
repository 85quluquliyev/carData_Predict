{
 "cells": [
  {
   "cell_type": "markdown",
   "id": "b480460e",
   "metadata": {},
   "source": [
    "# Information of Our Team "
   ]
  },
  {
   "cell_type": "raw",
   "id": "4fc9783c",
   "metadata": {},
   "source": [
    "Melik Alp Atik 18069048\n",
    "Cavid Haydari 19069928\n",
    "Gulu Guliyev 19069931"
   ]
  },
  {
   "cell_type": "markdown",
   "id": "b40f6b78",
   "metadata": {},
   "source": [
    "# How We Prepared"
   ]
  },
  {
   "cell_type": "raw",
   "id": "4bca64d5",
   "metadata": {},
   "source": [
    "On the first day, we zoomed in and discussed our knowledge.The next day we met and reviewed the homework introduction.\n",
    "We spent 2 days completing our missing information.We learned about numpy, pandas and matplotlib libraries.\n",
    "We did the homework with help from other sources and Google."
   ]
  },
  {
   "cell_type": "markdown",
   "id": "ba00a631",
   "metadata": {},
   "source": [
    "# The resources we use"
   ]
  },
  {
   "cell_type": "raw",
   "id": "0ea7e4cc",
   "metadata": {},
   "source": [
    "https://scikit-learn.org/stable/modules/cross_validation.html\n",
    "https://www.youtube.com/watch?v=gFzq_oz_mSQ&ab_channel=TirendazAkademi\n",
    "https://pandas.pydata.org/docs/reference/api/pandas.read_csv.html\n",
    "https://numpy.org/doc/stable/reference/random/generated/numpy.random.seed.html\n",
    "https://www.kaggle.com/susanhuynh/ridge-and-lasso-regression-with-different-lambda"
   ]
  },
  {
   "cell_type": "markdown",
   "id": "0b17e9e3",
   "metadata": {},
   "source": [
    "# Thanks"
   ]
  },
  {
   "cell_type": "raw",
   "id": "153b8ec1",
   "metadata": {},
   "source": [
    "We took a step into data science to be able to do this assignment, we learned a lot Thank you"
   ]
  },
  {
   "cell_type": "markdown",
   "id": "e1b45802",
   "metadata": {},
   "source": [
    "# Our Code"
   ]
  },
  {
   "cell_type": "code",
   "execution_count": 10,
   "id": "42fb8273",
   "metadata": {},
   "outputs": [],
   "source": [
    "#First we need to load the libraries. numpy, pandas, sklearn and matplotlib.\n",
    "#We can create arrays with Numpy.\n",
    "#Reading and analyzing data with Pandas.\n",
    "#Visualizing data with Matplotlib.\n",
    "#We can achieve artificial intelligence learning and regressions with Sklearn\n",
    "\n",
    "from os import replace                                    \n",
    "import pandas as pd\n",
    "import matplotlib.pyplot as plt\n",
    "from sklearn.model_selection import train_test_split,cross_val_score,KFold\n",
    "from sklearn import metrics\n",
    "from sklearn.linear_model import LinearRegression, Lasso, Ridge\n",
    "from sklearn.metrics import r2_score,mean_squared_error\n",
    "import numpy as np"
   ]
  },
  {
   "cell_type": "code",
   "execution_count": 11,
   "id": "40f54289-6965-4eaa-bdc6-642e108e755b",
   "metadata": {},
   "outputs": [
    {
     "data": {
      "text/html": [
       "<div>\n",
       "<style scoped>\n",
       "    .dataframe tbody tr th:only-of-type {\n",
       "        vertical-align: middle;\n",
       "    }\n",
       "\n",
       "    .dataframe tbody tr th {\n",
       "        vertical-align: top;\n",
       "    }\n",
       "\n",
       "    .dataframe thead th {\n",
       "        text-align: right;\n",
       "    }\n",
       "</style>\n",
       "<table border=\"1\" class=\"dataframe\">\n",
       "  <thead>\n",
       "    <tr style=\"text-align: right;\">\n",
       "      <th></th>\n",
       "      <th>Price</th>\n",
       "      <th>Year</th>\n",
       "      <th>Type</th>\n",
       "      <th>Shift</th>\n",
       "      <th>km</th>\n",
       "      <th>Power</th>\n",
       "      <th>Engine</th>\n",
       "      <th>Seller</th>\n",
       "    </tr>\n",
       "  </thead>\n",
       "  <tbody>\n",
       "    <tr>\n",
       "      <th>0</th>\n",
       "      <td>24900</td>\n",
       "      <td>2004</td>\n",
       "      <td>1</td>\n",
       "      <td>0</td>\n",
       "      <td>270000</td>\n",
       "      <td>70</td>\n",
       "      <td>1248</td>\n",
       "      <td>0</td>\n",
       "    </tr>\n",
       "    <tr>\n",
       "      <th>1</th>\n",
       "      <td>27500</td>\n",
       "      <td>2004</td>\n",
       "      <td>0</td>\n",
       "      <td>0</td>\n",
       "      <td>164000</td>\n",
       "      <td>75</td>\n",
       "      <td>1199</td>\n",
       "      <td>0</td>\n",
       "    </tr>\n",
       "    <tr>\n",
       "      <th>2</th>\n",
       "      <td>42500</td>\n",
       "      <td>2008</td>\n",
       "      <td>1</td>\n",
       "      <td>1</td>\n",
       "      <td>300000</td>\n",
       "      <td>90</td>\n",
       "      <td>1248</td>\n",
       "      <td>0</td>\n",
       "    </tr>\n",
       "    <tr>\n",
       "      <th>3</th>\n",
       "      <td>63750</td>\n",
       "      <td>2017</td>\n",
       "      <td>0</td>\n",
       "      <td>1</td>\n",
       "      <td>8780</td>\n",
       "      <td>90</td>\n",
       "      <td>1398</td>\n",
       "      <td>0</td>\n",
       "    </tr>\n",
       "    <tr>\n",
       "      <th>4</th>\n",
       "      <td>25000</td>\n",
       "      <td>2004</td>\n",
       "      <td>1</td>\n",
       "      <td>0</td>\n",
       "      <td>200000</td>\n",
       "      <td>70</td>\n",
       "      <td>1248</td>\n",
       "      <td>1</td>\n",
       "    </tr>\n",
       "  </tbody>\n",
       "</table>\n",
       "</div>"
      ],
      "text/plain": [
       "   Price  Year  Type  Shift      km  Power  Engine  Seller\n",
       "0  24900  2004     1      0  270000     70    1248       0\n",
       "1  27500  2004     0      0  164000     75    1199       0\n",
       "2  42500  2008     1      1  300000     90    1248       0\n",
       "3  63750  2017     0      1    8780     90    1398       0\n",
       "4  25000  2004     1      0  200000     70    1248       1"
      ]
     },
     "execution_count": 11,
     "metadata": {},
     "output_type": "execute_result"
    }
   ],
   "source": [
    "data = pd.read_excel(\"asg 1 - train data.xlsx\") #With the help of the pandas library, we read the data first. \n",
    "                                                #Since it makes more sense to read the data as excel, \n",
    "                                                #I did not change it to csv file.\n",
    "\n",
    "\n",
    "#The data must be numbers for us to process. So we converted them to numbers with the help of replace.        \n",
    "\n",
    "data.replace({'Type':{'Gasoline':0 ,'Diesel':1 ,'LPG':2}},inplace=True)\n",
    "\n",
    "\n",
    "#Normally this is not correct. We can't assign values other than 1 and 0. \n",
    "#We have to put them in columns and give values 1 and 0, but sorry we are not that knowledgeable,\n",
    "#maybe we will do it in the next assignment :-)\n",
    "\n",
    "\n",
    "data.replace({'Seller':{'Dealer':0 ,'Owner':1}},inplace=True)\n",
    "data.replace({'Shift':{'Manual':0 ,'Auto':1}},inplace=True)\n",
    "\n",
    "\n",
    "\n",
    "#With head we can show 5 rows of data, but if we write n = 10 in it, we will see the first 10 values\n",
    "\n",
    "data.head()"
   ]
  },
  {
   "cell_type": "code",
   "execution_count": 12,
   "id": "b4a9dc7a-28e0-46f6-bd22-b2dcbf60b5a8",
   "metadata": {},
   "outputs": [
    {
     "data": {
      "text/plain": [
       "0    24900\n",
       "1    27500\n",
       "2    42500\n",
       "3    63750\n",
       "4    25000\n",
       "Name: Price, dtype: int64"
      ]
     },
     "execution_count": 12,
     "metadata": {},
     "output_type": "execute_result"
    }
   ],
   "source": [
    "#Here we drop the Price column so that we can train the AI.\n",
    "\n",
    "x = data.drop('Price',axis=1)\n",
    "\n",
    "#We add this column to the new variable\n",
    "\n",
    "y = data['Price']\n",
    "\n",
    "#We see the values of the new variable\n",
    "\n",
    "y.head()"
   ]
  },
  {
   "cell_type": "code",
   "execution_count": 13,
   "id": "379ca81a-7a25-4c1d-a41e-973afc24994a",
   "metadata": {},
   "outputs": [
    {
     "data": {
      "text/html": [
       "<div>\n",
       "<style scoped>\n",
       "    .dataframe tbody tr th:only-of-type {\n",
       "        vertical-align: middle;\n",
       "    }\n",
       "\n",
       "    .dataframe tbody tr th {\n",
       "        vertical-align: top;\n",
       "    }\n",
       "\n",
       "    .dataframe thead th {\n",
       "        text-align: right;\n",
       "    }\n",
       "</style>\n",
       "<table border=\"1\" class=\"dataframe\">\n",
       "  <thead>\n",
       "    <tr style=\"text-align: right;\">\n",
       "      <th></th>\n",
       "      <th>Year</th>\n",
       "      <th>Type</th>\n",
       "      <th>Shift</th>\n",
       "      <th>km</th>\n",
       "      <th>Power</th>\n",
       "      <th>Engine</th>\n",
       "      <th>Seller</th>\n",
       "    </tr>\n",
       "  </thead>\n",
       "  <tbody>\n",
       "    <tr>\n",
       "      <th>0</th>\n",
       "      <td>2004</td>\n",
       "      <td>1</td>\n",
       "      <td>0</td>\n",
       "      <td>270000</td>\n",
       "      <td>70</td>\n",
       "      <td>1248</td>\n",
       "      <td>0</td>\n",
       "    </tr>\n",
       "    <tr>\n",
       "      <th>1</th>\n",
       "      <td>2004</td>\n",
       "      <td>0</td>\n",
       "      <td>0</td>\n",
       "      <td>164000</td>\n",
       "      <td>75</td>\n",
       "      <td>1199</td>\n",
       "      <td>0</td>\n",
       "    </tr>\n",
       "    <tr>\n",
       "      <th>2</th>\n",
       "      <td>2008</td>\n",
       "      <td>1</td>\n",
       "      <td>1</td>\n",
       "      <td>300000</td>\n",
       "      <td>90</td>\n",
       "      <td>1248</td>\n",
       "      <td>0</td>\n",
       "    </tr>\n",
       "    <tr>\n",
       "      <th>3</th>\n",
       "      <td>2017</td>\n",
       "      <td>0</td>\n",
       "      <td>1</td>\n",
       "      <td>8780</td>\n",
       "      <td>90</td>\n",
       "      <td>1398</td>\n",
       "      <td>0</td>\n",
       "    </tr>\n",
       "    <tr>\n",
       "      <th>4</th>\n",
       "      <td>2004</td>\n",
       "      <td>1</td>\n",
       "      <td>0</td>\n",
       "      <td>200000</td>\n",
       "      <td>70</td>\n",
       "      <td>1248</td>\n",
       "      <td>1</td>\n",
       "    </tr>\n",
       "  </tbody>\n",
       "</table>\n",
       "</div>"
      ],
      "text/plain": [
       "   Year  Type  Shift      km  Power  Engine  Seller\n",
       "0  2004     1      0  270000     70    1248       0\n",
       "1  2004     0      0  164000     75    1199       0\n",
       "2  2008     1      1  300000     90    1248       0\n",
       "3  2017     0      1    8780     90    1398       0\n",
       "4  2004     1      0  200000     70    1248       1"
      ]
     },
     "execution_count": 13,
     "metadata": {},
     "output_type": "execute_result"
    }
   ],
   "source": [
    "#We see the values of the car data\n",
    "\n",
    "x.head()"
   ]
  },
  {
   "cell_type": "code",
   "execution_count": 14,
   "id": "83eb7f01-5c26-4c29-b85e-4cb0128e6a37",
   "metadata": {},
   "outputs": [],
   "source": [
    "#We separate our data set as training and test sets. \n",
    "#With test size, we determine what percentage is test and what percentage is training. \n",
    "#With random state, we get data from different places and our results are more accurate.\n",
    "\n",
    "x_train, x_test, y_train, y_test = train_test_split(x, y, test_size = 0.25, random_state=50)"
   ]
  },
  {
   "cell_type": "code",
   "execution_count": 15,
   "id": "ba05d82e",
   "metadata": {},
   "outputs": [
    {
     "data": {
      "text/plain": [
       "(2175, 7)"
      ]
     },
     "execution_count": 15,
     "metadata": {},
     "output_type": "execute_result"
    }
   ],
   "source": [
    "#Let's look at the row column via Shape, this is for us to examine our code and see if we made a mistake.\n",
    "\n",
    "x_train.shape"
   ]
  },
  {
   "cell_type": "code",
   "execution_count": 16,
   "id": "01f032f2",
   "metadata": {},
   "outputs": [
    {
     "data": {
      "text/plain": [
       "(725,)"
      ]
     },
     "execution_count": 16,
     "metadata": {},
     "output_type": "execute_result"
    }
   ],
   "source": [
    "y_test.shape #We didn't print them all for a clean look"
   ]
  },
  {
   "cell_type": "markdown",
   "id": "83499287",
   "metadata": {},
   "source": [
    "# Linear Regression"
   ]
  },
  {
   "cell_type": "code",
   "execution_count": 17,
   "id": "4ac6544a-55db-4599-b4cf-7e5448c09c33",
   "metadata": {},
   "outputs": [
    {
     "data": {
      "text/plain": [
       "LinearRegression()"
      ]
     },
     "execution_count": 17,
     "metadata": {},
     "output_type": "execute_result"
    }
   ],
   "source": [
    "#Using the Linear Regression module from the included sklearn library. We create and feed the Linear Regression\n",
    "\n",
    "lin = LinearRegression()\n",
    "lin.fit(x_train, y_train)"
   ]
  },
  {
   "cell_type": "code",
   "execution_count": 18,
   "id": "c4a8b900-41f7-4400-8f52-b4c701bf9a7e",
   "metadata": {},
   "outputs": [],
   "source": [
    "#We make prediction with training data\n",
    "\n",
    "predict_for_lin_xtest = lin.predict(x_test)"
   ]
  },
  {
   "cell_type": "code",
   "execution_count": 19,
   "id": "e9882a10-1647-4eb4-894f-aa5c6ed10f9b",
   "metadata": {},
   "outputs": [],
   "source": [
    "#Now we are reading your data, because now we have a trained code. We can estimate the Price over your values.\n",
    "\n",
    "new_data=pd.read_csv(\"TestDataMGG.csv\",delimiter=\";\",header=0) #I opened it as a csv file and ; \n",
    "                                                               #I used the values you wrote to separate\n",
    "\n",
    "#We did the replace operation again\n",
    "\n",
    "new_data.replace({'Type':{'Gasoline':0 ,'Diesel':1 ,'LPG':2}},inplace=True) \n",
    "new_data.replace({'Seller':{'Dealer':0 ,'Owner':1}},inplace=True)\n",
    "new_data.replace({'Shift':{'Manual':0 ,'Auto':1}},inplace=True)\n",
    "\n",
    "#We created an array of your data using numpy.\n",
    "\n",
    "new_np_data=np.array(new_data)\n",
    "\n",
    "\n",
    "#I keep this data for now. After examining other Regressions, \n",
    "#I will choose one and print this data accordingly to the Result.txt file."
   ]
  },
  {
   "cell_type": "markdown",
   "id": "604826ee",
   "metadata": {},
   "source": [
    "### You can find the predict part at the bottom, I found and sorted all R2 Errors and found the model that gave the closest prediction."
   ]
  },
  {
   "cell_type": "code",
   "execution_count": 20,
   "id": "175b8ddf-7ff2-4bc4-8b4d-bd3dfd020cfd",
   "metadata": {},
   "outputs": [
    {
     "name": "stdout",
     "output_type": "stream",
     "text": [
      "linear model intercept (Theta_0): -3071194.8\n",
      "linear model coeff (Theta_1): [ 1.54381703e+03  5.09096547e+02  4.41663454e+03 -4.31481359e-02\n",
      " -3.39723298e-01  8.28102386e+00  3.53076143e+02]\n",
      "R2-Train 0.8925696194 R2-Test 0.8085863203\n"
     ]
    }
   ],
   "source": [
    "#Now let's calculate R2 values in Linear with our training data.\n",
    "\n",
    "print('linear model intercept (Theta_0): {:.1f}'.format(lin.intercept_))\n",
    "print('linear model coeff (Theta_1): {}'.format(lin.coef_))\n",
    "print('R2-Train',round(lin.score(x_train, y_train),10), \n",
    "       'R2-Test',round(lin.score(x_test, y_test),10))\n",
    "\n",
    "#Our first model is Linear and the Train error value we got from there is 0.89257"
   ]
  },
  {
   "cell_type": "markdown",
   "id": "ec6bf4c3-66cd-45a9-b88c-d1d171c9c26a",
   "metadata": {},
   "source": [
    "### Linear Regression with k-Fold Cross Validation "
   ]
  },
  {
   "cell_type": "code",
   "execution_count": 23,
   "id": "4d886b5e-3c4a-4b7d-bc1a-378b53c2e236",
   "metadata": {},
   "outputs": [
    {
     "data": {
      "text/plain": [
       "0.8703553036"
      ]
     },
     "execution_count": 23,
     "metadata": {},
     "output_type": "execute_result"
    }
   ],
   "source": [
    "# We created a K Fold object with 5 partitions. We put it directly using the module and took the average of the result.\n",
    "\n",
    "parts = KFold(n_splits = 5, shuffle = True, random_state = 50)\n",
    "scores = cross_val_score(lin, x, y, scoring='r2', cv=parts)\n",
    "round(scores.mean(),10)\n",
    "\n",
    "# cross validation error is 0.87036\n",
    "#I don't know the reason for rounding but this is how I always saw it in the codes I read on kaggle"
   ]
  },
  {
   "cell_type": "markdown",
   "id": "72f5a7d2-6ac2-48ed-ad31-415135a19dc2",
   "metadata": {},
   "source": [
    "# Ridge Regression "
   ]
  },
  {
   "cell_type": "code",
   "execution_count": 27,
   "id": "85b09dac",
   "metadata": {},
   "outputs": [
    {
     "name": "stdout",
     "output_type": "stream",
     "text": [
      "Alpha = 0.00\n",
      " r-squared training: 0.8925696194, r-squared test: 0.8085863203\n",
      "\n",
      "Alpha = 0.01\n",
      " r-squared training: 0.8925696194, r-squared test: 0.8085865021\n",
      "\n",
      "Alpha = 0.10\n",
      " r-squared training: 0.8925696179, r-squared test: 0.8085881359\n",
      "\n",
      "Alpha = 1.00\n",
      " r-squared training: 0.8925694672, r-squared test: 0.8086043153\n",
      "\n",
      "Alpha = 2.00\n",
      " r-squared training: 0.8925690136, r-squared test: 0.8086219562\n",
      "\n",
      "Alpha = 3.00\n",
      " r-squared training: 0.8925682634, r-squared test: 0.8086392477\n",
      "\n",
      "Alpha = 4.00\n",
      " r-squared training: 0.8925672210, r-squared test: 0.8086561944\n",
      "\n",
      "Alpha = 10.00\n",
      " r-squared training: 0.8925550801, r-squared test: 0.8087508890\n",
      "\n",
      "Alpha = 20.00\n",
      " r-squared training: 0.8925142898, r-squared test: 0.8088840220\n",
      "\n",
      "Alpha = 30.00\n",
      " r-squared training: 0.8924510355, r-squared test: 0.8089896269\n",
      "\n",
      "Alpha = 40.00\n",
      " r-squared training: 0.8923685729, r-squared test: 0.8090710925\n",
      "\n",
      "Alpha = 50.00\n",
      " r-squared training: 0.8922697075, r-squared test: 0.8091313653\n",
      "\n",
      "Alpha = 85.00\n",
      " r-squared training: 0.8918266626, r-squared test: 0.8092097067\n",
      "\n",
      "Alpha = 100.00\n",
      " r-squared training: 0.8916036391, r-squared test: 0.8091942946\n",
      "\n",
      "Alpha = 125.00\n",
      " r-squared training: 0.8912039209, r-squared test: 0.8091212806\n",
      "\n",
      "Alpha = 175.00\n",
      " r-squared training: 0.8903471389, r-squared test: 0.8088529765\n",
      "\n",
      "Alpha = 1000.00\n",
      " r-squared training: 0.8804778756, r-squared test: 0.8032237956\n",
      "\n",
      "Alpha = 10000.00\n",
      " r-squared training: 0.8602466830, r-squared test: 0.7877163621\n",
      "\n",
      "Alpha = 100000.00\n",
      " r-squared training: 0.7428168110, r-squared test: 0.6848708370\n",
      "\n",
      "Alpha = 1000000.00\n",
      " r-squared training: 0.6433212443, r-squared test: 0.5959065133\n",
      "\n",
      "Alpha = 10000000.00\n",
      " r-squared training: 0.6235155916, r-squared test: 0.5773504500\n",
      "\n",
      "Alpha = 10000000.00\n",
      " r-squared training: 0.6235155916, r-squared test: 0.5773504500\n",
      "\n",
      "Alpha = 100000000.00\n",
      " r-squared training: 0.6211624337, r-squared test: 0.5753147109\n",
      "\n"
     ]
    }
   ],
   "source": [
    "# We tried different alpha values and did it through the for loop.\n",
    "\n",
    "for this_alpha in [0, 0.01,0.1, 1, 2, 3, 4,10,20,30,40,50,85,100,125,175,1000, 10000,100000, 1000000, 10000000, 10000000, 100000000]:\n",
    "#[0, 0.1, 0.2, 0.3, 0.4, 0.5, 0.6, 0.7, 0.8, 0.9, 1.0, 2, 3, 4, 5, 6, 7, 8, 9, 10, 20, 30, 40]:\n",
    "    ridge = Ridge(alpha = this_alpha).fit(x_train, y_train) # Ridge we defined here\n",
    "    r2_train = ridge.score(x_train, y_train)\n",
    "    r2_test  = ridge.score(x_test,  y_test)\n",
    "    print('Alpha = {:.2f}\\n r-squared training: {:.10f}, r-squared test: {:.10f}\\n'\n",
    "         .format(this_alpha,r2_train, r2_test))  "
   ]
  },
  {
   "cell_type": "markdown",
   "id": "7ae06c7b-411a-40e1-b06d-913184e50bed",
   "metadata": {},
   "source": [
    "### Ridge Regression n-fold Cross Validation with Shuffling"
   ]
  },
  {
   "cell_type": "code",
   "execution_count": 29,
   "id": "40a6e158-cfe7-4aa3-a0cb-1f8e1bd9d4b0",
   "metadata": {},
   "outputs": [
    {
     "data": {
      "text/plain": [
       "0.8671548231472157"
      ]
     },
     "execution_count": 29,
     "metadata": {},
     "output_type": "execute_result"
    }
   ],
   "source": [
    "# We need to find Cross Validation\n",
    "# We find this using two different alpha values.\n",
    "# First alpha value is 0\n",
    "\n",
    "ridge=Ridge(alpha = 0)\n",
    "parts = KFold(n_splits=5, shuffle=True, random_state=100)\n",
    "scores = cross_val_score(ridge, x, y, scoring='r2', cv=parts)\n",
    "scores.mean()\n"
   ]
  },
  {
   "cell_type": "code",
   "execution_count": 30,
   "id": "c5c52800",
   "metadata": {},
   "outputs": [
    {
     "data": {
      "text/plain": [
       "0.8570826026563015"
      ]
     },
     "execution_count": 30,
     "metadata": {},
     "output_type": "execute_result"
    }
   ],
   "source": [
    "# We need to find Cross Validation\n",
    "# We find this using two different alpha values.\n",
    "# First alpha value is 1000\n",
    "\n",
    "ridge=Ridge(alpha = 1000)\n",
    "parts = KFold(n_splits=5, shuffle=True, random_state=100)\n",
    "scores = cross_val_score(ridge, x, y, scoring='r2', cv=parts)\n",
    "scores.mean()\n"
   ]
  },
  {
   "cell_type": "markdown",
   "id": "b309ec8e-4ebd-4f30-aad2-f666598b4d09",
   "metadata": {},
   "source": [
    "## Lasso Regression"
   ]
  },
  {
   "cell_type": "code",
   "execution_count": 31,
   "id": "114246cf-d12a-471b-98bd-81db6d51ec7a",
   "metadata": {},
   "outputs": [
    {
     "name": "stdout",
     "output_type": "stream",
     "text": [
      "Intercept -3070679.037594817\n",
      "Coeff [ 1.54356254e+03  5.06448861e+02  4.41005396e+03 -4.31594906e-02\n",
      " -3.00552246e-01  8.28141022e+00  3.48422216e+02]\n",
      "R2-Train 0.8925695285 R2-Test 0.808603008\n"
     ]
    }
   ],
   "source": [
    "# We didn't purposely use loops here.\n",
    "#We define Lasso, then print the R2 values.\n",
    "\n",
    "lasso = Lasso().fit(x_train, y_train)\n",
    "print('Intercept', lasso.intercept_)\n",
    "print('Coeff',lasso.coef_)\n",
    "print('R2-Train',round(lasso.score(x_train, y_train),10), 'R2-Test',round(lasso.score(x_test, y_test),10))"
   ]
  },
  {
   "cell_type": "code",
   "execution_count": 32,
   "id": "594ff986-e2f8-47a8-b87e-de6a59359ded",
   "metadata": {},
   "outputs": [
    {
     "name": "stdout",
     "output_type": "stream",
     "text": [
      "Intercept -3071189.659083246\n",
      "Coeff [ 1.54381448e+03  5.09070070e+02  4.41656874e+03 -4.31482494e-02\n",
      " -3.39331614e-01  8.28102772e+00  3.53029604e+02]\n",
      "R2-Train 0.8925696194 R2-Test 0.808586488\n"
     ]
    }
   ],
   "source": [
    "#We used different alpha values\n",
    "\n",
    "lasso1 = Lasso(alpha=0.01).fit(x_train, y_train)\n",
    "print('Intercept', lasso1.intercept_)\n",
    "print('Coeff',lasso1.coef_)\n",
    "print('R2-Train',round(lasso1.score(x_train, y_train),10), 'R2-Test',round(lasso1.score(x_test, y_test),10))"
   ]
  },
  {
   "cell_type": "code",
   "execution_count": 33,
   "id": "64cc75db",
   "metadata": {},
   "outputs": [
    {
     "name": "stdout",
     "output_type": "stream",
     "text": [
      "Intercept -2836596.5568094742\n",
      "Coeff [ 1.42776588e+03  0.00000000e+00  0.00000000e+00 -5.59552427e-02\n",
      "  1.62045568e+01  8.89085466e+00 -0.00000000e+00]\n",
      "R2-Train 0.8692454363 R2-Test 0.7950448402\n"
     ]
    }
   ],
   "source": [
    "#We used different alpha values\n",
    "\n",
    "lasso1000 = Lasso(alpha=1000).fit(x_train, y_train)\n",
    "print('Intercept', lasso1000.intercept_)\n",
    "print('Coeff',lasso1000.coef_)\n",
    "print('R2-Train',round(lasso1000.score(x_train, y_train),10), 'R2-Test',round(lasso1000.score(x_test, y_test),10))"
   ]
  },
  {
   "cell_type": "markdown",
   "id": "95ec7b08-c405-47ab-bedf-79e5194cf9f8",
   "metadata": {},
   "source": [
    "### Lasso Regression with k-fold Cross Validation"
   ]
  },
  {
   "cell_type": "code",
   "execution_count": 94,
   "id": "a70aa62d-f4f1-4350-ab67-9048072abc57",
   "metadata": {},
   "outputs": [
    {
     "data": {
      "text/plain": [
       "0.8570826026563015"
      ]
     },
     "execution_count": 94,
     "metadata": {},
     "output_type": "execute_result"
    }
   ],
   "source": [
    "#cv with an alpha value of 0.01\n",
    "\n",
    "lassocv001 = Lasso(alpha=0.01)\n",
    "parts = KFold(shuffle=True, n_splits=5)\n",
    "score = cross_val_score(lassocv001, x, y, cv=parts, scoring='r2')\n",
    "scores.mean()"
   ]
  },
  {
   "cell_type": "code",
   "execution_count": 95,
   "id": "266262af",
   "metadata": {},
   "outputs": [
    {
     "data": {
      "text/plain": [
       "0.8570826026563015"
      ]
     },
     "execution_count": 95,
     "metadata": {},
     "output_type": "execute_result"
    }
   ],
   "source": [
    "#cv with an alpha value of 1000\n",
    "\n",
    "lassocv1000 = Lasso(alpha=1000)\n",
    "parts = KFold(shuffle=True, n_splits=5)\n",
    "score = cross_val_score(lassocv1000, x, y, cv=parts, scoring='r2')\n",
    "scores.mean()"
   ]
  },
  {
   "cell_type": "markdown",
   "id": "1d38a56e",
   "metadata": {},
   "source": [
    "# R2 Sorting Train Errors"
   ]
  },
  {
   "cell_type": "code",
   "execution_count": 96,
   "id": "7422ed73",
   "metadata": {},
   "outputs": [
    {
     "name": "stdout",
     "output_type": "stream",
     "text": [
      "[0.8742537307, 0.8838503995, 0.8934251597, 0.8939218682, 0.8939218682]\n"
     ]
    }
   ],
   "source": [
    "def sort(nums):\n",
    "  \n",
    "  for i in range(0,len(nums)):\n",
    "      for j in range(0,len(nums)-1):\n",
    "          if nums[j] > nums[j+1] :\n",
    "              nums[j],nums[j+1]=nums[j+1],nums[j]\n",
    "          else:\n",
    "              continue\n",
    "  print(nums)\n",
    "  \n",
    "dataList=[0.8934251597,0.8939218682,0.8838503995,0.8939218682,0.8742537307]\n",
    "sort(dataList)"
   ]
  },
  {
   "cell_type": "code",
   "execution_count": 97,
   "id": "4080c764",
   "metadata": {},
   "outputs": [],
   "source": [
    "#The Best R2 Train Error is Lasso Regression alpha=0.01 R2 train Error Value 0.8939218682\n",
    "#So we will make our predictions on this"
   ]
  },
  {
   "cell_type": "markdown",
   "id": "5f74a3ba",
   "metadata": {},
   "source": [
    "# Predict"
   ]
  },
  {
   "cell_type": "code",
   "execution_count": 35,
   "id": "ecf608f6",
   "metadata": {},
   "outputs": [],
   "source": [
    "#We will describe Lasso and train it later.\n",
    "\n",
    "lassoforpredict=Lasso(alpha=0.01)\n",
    "lassoforpredict.fit(x_train, y_train)\n",
    "\n",
    "#Now guess the car price.\n",
    "predict_price=lassoforpredict.predict(new_data)"
   ]
  },
  {
   "cell_type": "code",
   "execution_count": 37,
   "id": "4b93ef2d",
   "metadata": {},
   "outputs": [],
   "source": [
    "# This allows us to create the file and print it there.\n",
    "# We used for loop for Array\n",
    "with open('Results.txt', 'w') as testfile:\n",
    "    for i in predict_price:\n",
    "        testfile.write(str(i)+\"\\n\")\n",
    "#There are 94 data        "
   ]
  }
 ],
 "metadata": {
  "kernelspec": {
   "display_name": "Python 3 (ipykernel)",
   "language": "python",
   "name": "python3"
  },
  "language_info": {
   "codemirror_mode": {
    "name": "ipython",
    "version": 3
   },
   "file_extension": ".py",
   "mimetype": "text/x-python",
   "name": "python",
   "nbconvert_exporter": "python",
   "pygments_lexer": "ipython3",
   "version": "3.9.7"
  }
 },
 "nbformat": 4,
 "nbformat_minor": 5
}
